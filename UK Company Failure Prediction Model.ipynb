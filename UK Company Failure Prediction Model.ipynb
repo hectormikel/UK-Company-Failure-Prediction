{
 "cells": [
  {
   "cell_type": "code",
   "execution_count": 25,
   "metadata": {},
   "outputs": [],
   "source": [
    "import torch\n",
    "import torch.nn as nn\n",
    "import torch.optim as optim\n",
    "from torch.utils.data import TensorDataset, DataLoader\n",
    "from sklearn.model_selection import train_test_split\n",
    "import numpy as np\n",
    "import polars as pl\n",
    "\n",
    "import matplotlib.pyplot as plt\n",
    "from sklearn.metrics import roc_curve, auc\n",
    "\n"
   ]
  },
  {
   "cell_type": "code",
   "execution_count": 26,
   "metadata": {},
   "outputs": [
    {
     "data": {
      "text/html": [
       "<div><style>\n",
       ".dataframe > thead > tr,\n",
       ".dataframe > tbody > tr {\n",
       "  text-align: right;\n",
       "  white-space: pre-wrap;\n",
       "}\n",
       "</style>\n",
       "<small>shape: (8_210, 20)</small><table border=\"1\" class=\"dataframe\"><thead><tr><th>Company name</th><th>Registered number</th><th>Year of accounts</th><th>Failure</th><th>OP_S</th><th>NI_S</th><th>EBITDA_S</th><th>OP_TA</th><th>NI_TA</th><th>EBITDA_TA</th><th>ln_CA_CL</th><th>WC_TA</th><th>WC_S</th><th>ln_TA_S</th><th>TL_TA</th><th>RE_TA</th><th>OCF_S</th><th>OCF_TA</th><th>LTD_TA</th><th>TD_TA</th></tr><tr><td>str</td><td>str</td><td>i64</td><td>i64</td><td>f64</td><td>f64</td><td>f64</td><td>f64</td><td>f64</td><td>f64</td><td>f64</td><td>f64</td><td>f64</td><td>f64</td><td>f64</td><td>f64</td><td>f64</td><td>f64</td><td>f64</td><td>f64</td></tr></thead><tbody><tr><td>&quot;STUK1 LIMITED&quot;</td><td>&quot;10475229&quot;</td><td>2020</td><td>1</td><td>-0.366586</td><td>-0.309816</td><td>-0.355311</td><td>-0.769895</td><td>-0.810042</td><td>-0.716419</td><td>-0.468494</td><td>-0.502563</td><td>-0.175573</td><td>0.349355</td><td>-1.051667</td><td>1.791295</td><td>0.995526</td><td>0.0</td><td>0.0</td><td>0.447743</td></tr><tr><td>&quot;HALT (NFR) LIMITED&quot;</td><td>&quot;NI677819&quot;</td><td>2020</td><td>1</td><td>-1.841611</td><td>-2.202736</td><td>-1.703377</td><td>-0.769895</td><td>-0.810042</td><td>-0.716419</td><td>-1.206371</td><td>-1.575892</td><td>-2.912958</td><td>1.244142</td><td>0.218446</td><td>2.524561</td><td>2.342445</td><td>0.17217</td><td>0.138384</td><td>0.0</td></tr><tr><td>&quot;CRAZY BEAR GROUP LIMITED&quot;</td><td>&quot;10612644&quot;</td><td>2020</td><td>0</td><td>0.156939</td><td>0.035576</td><td>0.239832</td><td>0.085562</td><td>0.019396</td><td>0.130755</td><td>-0.527827</td><td>-0.078033</td><td>-0.143129</td><td>1.834213</td><td>0.606616</td><td>1.026907</td><td>0.150963</td><td>0.124558</td><td>0.067908</td><td>0.728727</td></tr><tr><td>&quot;HUSH BRASSERIES LIMITED&quot;</td><td>&quot;03670723&quot;</td><td>2020</td><td>0</td><td>-0.079834</td><td>-0.095221</td><td>-0.027472</td><td>-0.166166</td><td>-0.198193</td><td>-0.05718</td><td>-0.845347</td><td>-0.40721</td><td>-0.195643</td><td>0.480448</td><td>-0.733037</td><td>1.10778</td><td>1.298512</td><td>-0.018595</td><td>-0.038704</td><td>0.394117</td></tr><tr><td>&quot;IOG PLC&quot;</td><td>&quot;07434350&quot;</td><td>2020</td><td>1</td><td>-0.080086</td><td>-0.377278</td><td>0.295693</td><td>-0.029245</td><td>-0.137768</td><td>0.107976</td><td>-0.516273</td><td>-0.125095</td><td>-0.342572</td><td>2.738496</td><td>1.007409</td><td>0.987453</td><td>0.329479</td><td>0.598477</td><td>0.294142</td><td>0.478017</td></tr><tr><td>&hellip;</td><td>&hellip;</td><td>&hellip;</td><td>&hellip;</td><td>&hellip;</td><td>&hellip;</td><td>&hellip;</td><td>&hellip;</td><td>&hellip;</td><td>&hellip;</td><td>&hellip;</td><td>&hellip;</td><td>&hellip;</td><td>&hellip;</td><td>&hellip;</td><td>&hellip;</td><td>&hellip;</td><td>&hellip;</td><td>&hellip;</td><td>&hellip;</td></tr><tr><td>&quot;VISTRY HOMES LIMITED&quot;</td><td>&quot;00397634&quot;</td><td>2022</td><td>0</td><td>0.018015</td><td>-0.009421</td><td>0.020211</td><td>0.007531</td><td>-0.003938</td><td>0.008449</td><td>0.283644</td><td>0.231755</td><td>0.554383</td><td>2.392105</td><td>0.872174</td><td>0.764105</td><td>-0.23588</td><td>0.0</td><td>0.0</td><td>0.007821</td></tr><tr><td>&quot;LADBROKES BETTING &amp; GAMING LIM…</td><td>&quot;00775667&quot;</td><td>2022</td><td>0</td><td>0.003576</td><td>-0.074061</td><td>0.150278</td><td>0.001074</td><td>-0.02224</td><td>0.045128</td><td>-1.184683</td><td>-0.282811</td><td>-0.94176</td><td>3.330001</td><td>1.202973</td><td>0.498788</td><td>-0.279152</td><td>0.0</td><td>0.0</td><td>0.077278</td></tr><tr><td>&quot;ELLERMAN INVESTMENTS LIMITED&quot;</td><td>&quot;01848089&quot;</td><td>2022</td><td>0</td><td>-0.0016</td><td>-0.0076</td><td>0.0384</td><td>-0.000006</td><td>-0.000027</td><td>0.000135</td><td>3.721159</td><td>0.997888</td><td>7.422585</td><td>22.762232</td><td>4.915625</td><td>0.002007</td><td>-0.975112</td><td>0.0924</td><td>0.000325</td><td>0.0</td></tr><tr><td>&quot;EVRAZ PLC&quot;</td><td>&quot;07784342&quot;</td><td>2022</td><td>0</td><td>0.171313</td><td>0.087968</td><td>0.257319</td><td>0.191843</td><td>0.09851</td><td>0.288157</td><td>0.091946</td><td>0.034353</td><td>0.030677</td><td>0.892982</td><td>-0.113189</td><td>0.894431</td><td>-0.251137</td><td>0.156044</td><td>0.174745</td><td>0.438118</td></tr><tr><td>&quot;IMPERIAL CHEMICAL INDUSTRIES L…</td><td>&quot;00218019&quot;</td><td>2022</td><td>0</td><td>-0.01692</td><td>0.060914</td><td>0.023689</td><td>-0.001234</td><td>0.004444</td><td>0.001728</td><td>-0.00424</td><td>-0.001728</td><td>-0.023689</td><td>13.707276</td><td>2.617927</td><td>0.444019</td><td>-0.290705</td><td>0.0</td><td>0.0</td><td>0.026416</td></tr></tbody></table></div>"
      ],
      "text/plain": [
       "shape: (8_210, 20)\n",
       "┌────────────┬────────────┬───────────┬─────────┬───┬───────────┬───────────┬───────────┬──────────┐\n",
       "│ Company    ┆ Registered ┆ Year of   ┆ Failure ┆ … ┆ OCF_S     ┆ OCF_TA    ┆ LTD_TA    ┆ TD_TA    │\n",
       "│ name       ┆ number     ┆ accounts  ┆ ---     ┆   ┆ ---       ┆ ---       ┆ ---       ┆ ---      │\n",
       "│ ---        ┆ ---        ┆ ---       ┆ i64     ┆   ┆ f64       ┆ f64       ┆ f64       ┆ f64      │\n",
       "│ str        ┆ str        ┆ i64       ┆         ┆   ┆           ┆           ┆           ┆          │\n",
       "╞════════════╪════════════╪═══════════╪═════════╪═══╪═══════════╪═══════════╪═══════════╪══════════╡\n",
       "│ STUK1      ┆ 10475229   ┆ 2020      ┆ 1       ┆ … ┆ 0.995526  ┆ 0.0       ┆ 0.0       ┆ 0.447743 │\n",
       "│ LIMITED    ┆            ┆           ┆         ┆   ┆           ┆           ┆           ┆          │\n",
       "│ HALT (NFR) ┆ NI677819   ┆ 2020      ┆ 1       ┆ … ┆ 2.342445  ┆ 0.17217   ┆ 0.138384  ┆ 0.0      │\n",
       "│ LIMITED    ┆            ┆           ┆         ┆   ┆           ┆           ┆           ┆          │\n",
       "│ CRAZY BEAR ┆ 10612644   ┆ 2020      ┆ 0       ┆ … ┆ 0.150963  ┆ 0.124558  ┆ 0.067908  ┆ 0.728727 │\n",
       "│ GROUP      ┆            ┆           ┆         ┆   ┆           ┆           ┆           ┆          │\n",
       "│ LIMITED    ┆            ┆           ┆         ┆   ┆           ┆           ┆           ┆          │\n",
       "│ HUSH       ┆ 03670723   ┆ 2020      ┆ 0       ┆ … ┆ 1.298512  ┆ -0.018595 ┆ -0.038704 ┆ 0.394117 │\n",
       "│ BRASSERIES ┆            ┆           ┆         ┆   ┆           ┆           ┆           ┆          │\n",
       "│ LIMITED    ┆            ┆           ┆         ┆   ┆           ┆           ┆           ┆          │\n",
       "│ IOG PLC    ┆ 07434350   ┆ 2020      ┆ 1       ┆ … ┆ 0.329479  ┆ 0.598477  ┆ 0.294142  ┆ 0.478017 │\n",
       "│ …          ┆ …          ┆ …         ┆ …       ┆ … ┆ …         ┆ …         ┆ …         ┆ …        │\n",
       "│ VISTRY     ┆ 00397634   ┆ 2022      ┆ 0       ┆ … ┆ -0.23588  ┆ 0.0       ┆ 0.0       ┆ 0.007821 │\n",
       "│ HOMES      ┆            ┆           ┆         ┆   ┆           ┆           ┆           ┆          │\n",
       "│ LIMITED    ┆            ┆           ┆         ┆   ┆           ┆           ┆           ┆          │\n",
       "│ LADBROKES  ┆ 00775667   ┆ 2022      ┆ 0       ┆ … ┆ -0.279152 ┆ 0.0       ┆ 0.0       ┆ 0.077278 │\n",
       "│ BETTING &  ┆            ┆           ┆         ┆   ┆           ┆           ┆           ┆          │\n",
       "│ GAMING     ┆            ┆           ┆         ┆   ┆           ┆           ┆           ┆          │\n",
       "│ LIM…       ┆            ┆           ┆         ┆   ┆           ┆           ┆           ┆          │\n",
       "│ ELLERMAN   ┆ 01848089   ┆ 2022      ┆ 0       ┆ … ┆ -0.975112 ┆ 0.0924    ┆ 0.000325  ┆ 0.0      │\n",
       "│ INVESTMENT ┆            ┆           ┆         ┆   ┆           ┆           ┆           ┆          │\n",
       "│ S LIMITED  ┆            ┆           ┆         ┆   ┆           ┆           ┆           ┆          │\n",
       "│ EVRAZ PLC  ┆ 07784342   ┆ 2022      ┆ 0       ┆ … ┆ -0.251137 ┆ 0.156044  ┆ 0.174745  ┆ 0.438118 │\n",
       "│ IMPERIAL   ┆ 00218019   ┆ 2022      ┆ 0       ┆ … ┆ -0.290705 ┆ 0.0       ┆ 0.0       ┆ 0.026416 │\n",
       "│ CHEMICAL   ┆            ┆           ┆         ┆   ┆           ┆           ┆           ┆          │\n",
       "│ INDUSTRIES ┆            ┆           ┆         ┆   ┆           ┆           ┆           ┆          │\n",
       "│ L…         ┆            ┆           ┆         ┆   ┆           ┆           ┆           ┆          │\n",
       "└────────────┴────────────┴───────────┴─────────┴───┴───────────┴───────────┴───────────┴──────────┘"
      ]
     },
     "execution_count": 26,
     "metadata": {},
     "output_type": "execute_result"
    }
   ],
   "source": [
    "df = pl.read_excel('UK failures data full.xlsx')\n",
    "df "
   ]
  },
  {
   "cell_type": "code",
   "execution_count": 27,
   "metadata": {},
   "outputs": [
    {
     "data": {
      "text/plain": [
       "(8210, 16)"
      ]
     },
     "execution_count": 27,
     "metadata": {},
     "output_type": "execute_result"
    }
   ],
   "source": [
    "X = df.drop('Company name', 'Registered number', 'Year of accounts', 'Failure')\n",
    "X.shape"
   ]
  },
  {
   "cell_type": "code",
   "execution_count": 28,
   "metadata": {},
   "outputs": [
    {
     "data": {
      "text/plain": [
       "(8210,)"
      ]
     },
     "execution_count": 28,
     "metadata": {},
     "output_type": "execute_result"
    }
   ],
   "source": [
    "y = df['Failure']\n",
    "y.shape"
   ]
  },
  {
   "cell_type": "code",
   "execution_count": 29,
   "metadata": {},
   "outputs": [
    {
     "data": {
      "text/html": [
       "<div><style>\n",
       ".dataframe > thead > tr,\n",
       ".dataframe > tbody > tr {\n",
       "  text-align: right;\n",
       "  white-space: pre-wrap;\n",
       "}\n",
       "</style>\n",
       "<small>shape: (2,)</small><table border=\"1\" class=\"dataframe\"><thead><tr><th>Failure</th></tr><tr><td>i64</td></tr></thead><tbody><tr><td>0</td></tr><tr><td>1</td></tr></tbody></table></div>"
      ],
      "text/plain": [
       "shape: (2,)\n",
       "Series: 'Failure' [i64]\n",
       "[\n",
       "\t0\n",
       "\t1\n",
       "]"
      ]
     },
     "execution_count": 29,
     "metadata": {},
     "output_type": "execute_result"
    }
   ],
   "source": [
    "y.unique()"
   ]
  },
  {
   "cell_type": "code",
   "execution_count": 30,
   "metadata": {},
   "outputs": [],
   "source": [
    "X_train, X_test, y_train, y_test = train_test_split(X, y, test_size=0.2, random_state=42)"
   ]
  },
  {
   "cell_type": "code",
   "execution_count": 31,
   "metadata": {},
   "outputs": [],
   "source": [
    "# Convert Polars DataFrame/Series to numpy arrays (ensure type is float32 for PyTorch)\n",
    "X_train_np = X_train.to_numpy().astype(np.float32)\n",
    "X_test_np  = X_test.to_numpy().astype(np.float32)\n",
    "y_train_np = y_train.to_numpy().astype(np.float32)\n",
    "y_test_np  = y_test.to_numpy().astype(np.float32)"
   ]
  },
  {
   "cell_type": "markdown",
   "metadata": {},
   "source": [
    "# Build Model"
   ]
  },
  {
   "cell_type": "code",
   "execution_count": 32,
   "metadata": {},
   "outputs": [],
   "source": [
    "# Create PyTorch datasets and dataloaders\n",
    "train_dataset = TensorDataset(torch.tensor(X_train_np), torch.tensor(y_train_np).unsqueeze(1))\n",
    "test_dataset  = TensorDataset(torch.tensor(X_test_np), torch.tensor(y_test_np).unsqueeze(1))\n",
    "train_loader  = DataLoader(train_dataset, batch_size=64, shuffle=True)\n",
    "test_loader   = DataLoader(test_dataset, batch_size=64, shuffle=False)\n"
   ]
  },
  {
   "cell_type": "code",
   "execution_count": 33,
   "metadata": {},
   "outputs": [],
   "source": [
    "# Define a simple neural network model for binary classification\n",
    "class Net(nn.Module):\n",
    "    def __init__(self, input_dim):\n",
    "        super(Net, self).__init__()\n",
    "        self.fc1 = nn.Linear(input_dim, 32)\n",
    "        self.fc2 = nn.Linear(32, 16)\n",
    "        self.fc3 = nn.Linear(16, 1)  # one output logit for binary classification\n",
    "\n",
    "    def forward(self, x):\n",
    "        x = torch.relu(self.fc1(x))\n",
    "        x = torch.relu(self.fc2(x))\n",
    "        x = self.fc3(x)\n",
    "        return x"
   ]
  },
  {
   "cell_type": "code",
   "execution_count": 34,
   "metadata": {},
   "outputs": [
    {
     "name": "stdout",
     "output_type": "stream",
     "text": [
      "Epoch 10/100, Loss: 0.2431\n",
      "Epoch 20/100, Loss: 0.2401\n",
      "Epoch 30/100, Loss: 0.2377\n",
      "Epoch 40/100, Loss: 0.2364\n",
      "Epoch 50/100, Loss: 0.2349\n",
      "Epoch 60/100, Loss: 0.2336\n",
      "Epoch 70/100, Loss: 0.2321\n",
      "Epoch 80/100, Loss: 0.2305\n",
      "Epoch 90/100, Loss: 0.2287\n",
      "Epoch 100/100, Loss: 0.2281\n"
     ]
    }
   ],
   "source": [
    "# Initialize the model, loss function and optimizer\n",
    "input_dim = X_train_np.shape[1]\n",
    "model = Net(input_dim)\n",
    "criterion = nn.BCEWithLogitsLoss()  # combines sigmoid with binary cross entropy loss\n",
    "optimizer = optim.Adam(model.parameters(), lr=0.001)\n",
    "\n",
    "# Training loop\n",
    "num_epochs = 100\n",
    "for epoch in range(num_epochs):\n",
    "    model.train()\n",
    "    running_loss = 0.0\n",
    "    for features, labels in train_loader:\n",
    "        optimizer.zero_grad()                # reset gradients\n",
    "        outputs = model(features)              # forward pass\n",
    "        loss = criterion(outputs, labels)      # compute loss\n",
    "        loss.backward()                        # backward pass\n",
    "        optimizer.step()                       # update weights\n",
    "        running_loss += loss.item() * features.size(0)\n",
    "    \n",
    "    epoch_loss = running_loss / len(train_loader.dataset)\n",
    "    if (epoch + 1) % 10 == 0:\n",
    "        print(f\"Epoch {epoch+1}/{num_epochs}, Loss: {epoch_loss:.4f}\")"
   ]
  },
  {
   "cell_type": "code",
   "execution_count": 35,
   "metadata": {},
   "outputs": [
    {
     "name": "stdout",
     "output_type": "stream",
     "text": [
      "Test Accuracy: 0.9245\n"
     ]
    }
   ],
   "source": [
    "# Evaluation on test set\n",
    "model.eval()\n",
    "correct = 0\n",
    "total = 0\n",
    "with torch.no_grad():\n",
    "    for features, labels in test_loader:\n",
    "        outputs = model(features)\n",
    "        # Apply sigmoid and classify as 0 or 1\n",
    "        preds = torch.sigmoid(outputs)\n",
    "        predicted = (preds > 0.5).float()\n",
    "        total += labels.size(0)\n",
    "        correct += (predicted == labels).sum().item()\n",
    "\n",
    "accuracy = correct / total\n",
    "print(f\"Test Accuracy: {accuracy:.4f}\")"
   ]
  },
  {
   "cell_type": "code",
   "execution_count": 36,
   "metadata": {},
   "outputs": [
    {
     "data": {
      "text/plain": [
       "Net(\n",
       "  (fc1): Linear(in_features=16, out_features=32, bias=True)\n",
       "  (fc2): Linear(in_features=32, out_features=16, bias=True)\n",
       "  (fc3): Linear(in_features=16, out_features=1, bias=True)\n",
       ")"
      ]
     },
     "execution_count": 36,
     "metadata": {},
     "output_type": "execute_result"
    }
   ],
   "source": [
    "# Ensure the model is in evaluation mode\n",
    "model.eval()"
   ]
  },
  {
   "cell_type": "code",
   "execution_count": 37,
   "metadata": {},
   "outputs": [],
   "source": [
    "# Collect all true labels and predicted probabilities from the test set\n",
    "all_labels = []\n",
    "all_preds = []\n",
    "with torch.no_grad():\n",
    "    for features, labels in test_loader:\n",
    "        outputs = model(features)\n",
    "        # Convert logits to probabilities using sigmoid\n",
    "        probs = torch.sigmoid(outputs)\n",
    "        all_preds.extend(probs.cpu().numpy().flatten())\n",
    "        all_labels.extend(labels.cpu().numpy().flatten())\n"
   ]
  },
  {
   "cell_type": "code",
   "execution_count": 38,
   "metadata": {},
   "outputs": [],
   "source": [
    "# Compute the ROC curve and AUC score\n",
    "fpr, tpr, thresholds = roc_curve(all_labels, all_preds)\n",
    "roc_auc = auc(fpr, tpr)\n"
   ]
  },
  {
   "cell_type": "code",
   "execution_count": 39,
   "metadata": {},
   "outputs": [
    {
     "data": {
      "image/png": "[encoded data removed]",
      "text/plain": [
       "<Figure size 800x600 with 1 Axes>"
      ]
     },
     "metadata": {},
     "output_type": "display_data"
    }
   ],
   "source": [
    "# Plot the ROC curve\n",
    "plt.figure(figsize=(8, 6))\n",
    "plt.plot(fpr, tpr, color='darkorange', lw=2, \n",
    "         label=f'ROC curve (AUC = {roc_auc:.2f})')\n",
    "plt.plot([0, 1], [0, 1], color='navy', lw=2, linestyle='--')\n",
    "plt.xlabel('False Positive Rate')\n",
    "plt.ylabel('True Positive Rate')\n",
    "plt.title('Receiver Operating Characteristic (ROC) Curve')\n",
    "plt.legend(loc=\"lower right\")\n",
    "plt.show()"
   ]
  },
  {
   "cell_type": "code",
   "execution_count": 40,
   "metadata": {},
   "outputs": [
    {
     "name": "stdout",
     "output_type": "stream",
     "text": [
      "False Positive Rates: [0.00000000e+00 6.58761528e-04 2.63504611e-03 2.63504611e-03\n",
      " 4.61133070e-03 4.61133070e-03 5.27009223e-03 5.27009223e-03\n",
      " 1.18577075e-02 1.18577075e-02 1.58102767e-02 1.58102767e-02\n",
      " 2.10803689e-02 2.10803689e-02 2.56916996e-02 2.56916996e-02\n",
      " 3.03030303e-02 3.03030303e-02 4.21607378e-02 4.21607378e-02\n",
      " 4.94071146e-02 4.94071146e-02 5.00658762e-02 5.00658762e-02\n",
      " 5.33596838e-02 5.33596838e-02 5.46772069e-02 5.46772069e-02\n",
      " 5.59947299e-02 5.59947299e-02 5.86297760e-02 5.86297760e-02\n",
      " 6.45586298e-02 6.45586298e-02 7.64163373e-02 7.64163373e-02\n",
      " 7.77338603e-02 7.77338603e-02 7.97101449e-02 7.97101449e-02\n",
      " 8.30039526e-02 8.30039526e-02 9.48616601e-02 9.48616601e-02\n",
      " 9.81554677e-02 9.81554677e-02 1.01449275e-01 1.01449275e-01\n",
      " 1.04084321e-01 1.04084321e-01 1.04743083e-01 1.04743083e-01\n",
      " 1.06060606e-01 1.06060606e-01 1.10013175e-01 1.10013175e-01\n",
      " 1.13965744e-01 1.13965744e-01 1.27799736e-01 1.27799736e-01\n",
      " 1.31093544e-01 1.31093544e-01 1.33069829e-01 1.33069829e-01\n",
      " 1.33728590e-01 1.33728590e-01 1.35046113e-01 1.35046113e-01\n",
      " 1.42951252e-01 1.42951252e-01 1.45586298e-01 1.45586298e-01\n",
      " 1.52173913e-01 1.52173913e-01 1.54808959e-01 1.54808959e-01\n",
      " 1.67984190e-01 1.67984190e-01 1.69960474e-01 1.69960474e-01\n",
      " 1.76548090e-01 1.76548090e-01 1.89064559e-01 1.89064559e-01\n",
      " 2.06192358e-01 2.06192358e-01 2.24637681e-01 2.24637681e-01\n",
      " 2.25955204e-01 2.25955204e-01 2.28590250e-01 2.28590250e-01\n",
      " 2.32542819e-01 2.32542819e-01 2.47694335e-01 2.47694335e-01\n",
      " 2.51646904e-01 2.51646904e-01 2.56916996e-01 2.56916996e-01\n",
      " 2.70092227e-01 2.70092227e-01 2.95783926e-01 2.95783926e-01\n",
      " 2.97760211e-01 2.97760211e-01 3.02371542e-01 3.02371542e-01\n",
      " 3.03689065e-01 3.03689065e-01 3.10276680e-01 3.10276680e-01\n",
      " 3.13570487e-01 3.13570487e-01 3.17523057e-01 3.17523057e-01\n",
      " 3.18840580e-01 3.18840580e-01 3.28063241e-01 3.28063241e-01\n",
      " 3.36627141e-01 3.36627141e-01 3.53096179e-01 3.53096179e-01\n",
      " 3.71541502e-01 3.71541502e-01 3.75494071e-01 3.75494071e-01\n",
      " 3.86034256e-01 3.86034256e-01 3.89328063e-01 3.89328063e-01\n",
      " 4.12384717e-01 4.12384717e-01 4.13702240e-01 4.13702240e-01\n",
      " 4.16996047e-01 4.16996047e-01 4.18972332e-01 4.18972332e-01\n",
      " 4.30171278e-01 4.30171278e-01 4.32806324e-01 4.32806324e-01\n",
      " 4.42028986e-01 4.42028986e-01 4.70355731e-01 4.70355731e-01\n",
      " 4.74308300e-01 4.74308300e-01 4.80237154e-01 4.80237154e-01\n",
      " 4.81554677e-01 4.81554677e-01 4.94071146e-01 4.94071146e-01\n",
      " 5.11198946e-01 5.11198946e-01 5.28326746e-01 5.28326746e-01\n",
      " 5.32279315e-01 5.32279315e-01 5.59947299e-01 5.59947299e-01\n",
      " 5.70487484e-01 5.70487484e-01 5.76416337e-01 5.76416337e-01\n",
      " 5.81686430e-01 5.81686430e-01 5.98814229e-01 5.98814229e-01\n",
      " 6.00790514e-01 6.00790514e-01 6.13965744e-01 6.13965744e-01\n",
      " 6.32411067e-01 6.32411067e-01 6.33728590e-01 6.33728590e-01\n",
      " 6.37681159e-01 6.37681159e-01 6.67325428e-01 6.67325428e-01\n",
      " 6.76548090e-01 6.76548090e-01 6.97628458e-01 6.97628458e-01\n",
      " 7.36495389e-01 7.36495389e-01 7.53623188e-01 7.53623188e-01\n",
      " 7.54281950e-01 7.54281950e-01 7.66139657e-01 7.66139657e-01\n",
      " 8.18840580e-01 8.18840580e-01 8.19499341e-01 8.19499341e-01\n",
      " 8.20816864e-01 8.20816864e-01 8.21475626e-01 8.21475626e-01\n",
      " 8.43214756e-01 8.43214756e-01 8.70223979e-01 8.70223979e-01\n",
      " 8.86034256e-01 8.86034256e-01 8.92621871e-01 8.92621871e-01\n",
      " 8.95915679e-01 8.95915679e-01 8.99868248e-01 8.99868248e-01\n",
      " 9.13043478e-01 9.13043478e-01 9.22266140e-01 9.22266140e-01\n",
      " 9.30171278e-01 9.30171278e-01 9.71014493e-01 9.71014493e-01\n",
      " 9.84848485e-01 9.84848485e-01 1.00000000e+00]\n",
      "True Positive Rates: [0.         0.         0.         0.00806452 0.00806452 0.02419355\n",
      " 0.02419355 0.04032258 0.04032258 0.0483871  0.0483871  0.05645161\n",
      " 0.05645161 0.06451613 0.06451613 0.07258065 0.07258065 0.08064516\n",
      " 0.08064516 0.09677419 0.09677419 0.10483871 0.10483871 0.12096774\n",
      " 0.12096774 0.12903226 0.12903226 0.14516129 0.14516129 0.15322581\n",
      " 0.15322581 0.16935484 0.16935484 0.17741935 0.17741935 0.19354839\n",
      " 0.19354839 0.2016129  0.2016129  0.20967742 0.20967742 0.21774194\n",
      " 0.21774194 0.22580645 0.22580645 0.23387097 0.23387097 0.25\n",
      " 0.25       0.26612903 0.26612903 0.27419355 0.27419355 0.28225806\n",
      " 0.28225806 0.29032258 0.29032258 0.2983871  0.2983871  0.30645161\n",
      " 0.30645161 0.31451613 0.31451613 0.32258065 0.32258065 0.33064516\n",
      " 0.33064516 0.33870968 0.33870968 0.34677419 0.34677419 0.35483871\n",
      " 0.35483871 0.36290323 0.36290323 0.37096774 0.37096774 0.37903226\n",
      " 0.37903226 0.38709677 0.38709677 0.39516129 0.39516129 0.41129032\n",
      " 0.41129032 0.41935484 0.41935484 0.42741935 0.42741935 0.43548387\n",
      " 0.43548387 0.44354839 0.44354839 0.4516129  0.4516129  0.45967742\n",
      " 0.45967742 0.46774194 0.46774194 0.47580645 0.47580645 0.48387097\n",
      " 0.48387097 0.49193548 0.49193548 0.5        0.5        0.50806452\n",
      " 0.50806452 0.51612903 0.51612903 0.52419355 0.52419355 0.53225806\n",
      " 0.53225806 0.54032258 0.54032258 0.5483871  0.5483871  0.55645161\n",
      " 0.55645161 0.56451613 0.56451613 0.57258065 0.57258065 0.58064516\n",
      " 0.58064516 0.58870968 0.58870968 0.59677419 0.59677419 0.60483871\n",
      " 0.60483871 0.61290323 0.61290323 0.62096774 0.62096774 0.62903226\n",
      " 0.62903226 0.63709677 0.63709677 0.64516129 0.64516129 0.66129032\n",
      " 0.66129032 0.66935484 0.66935484 0.67741935 0.67741935 0.68548387\n",
      " 0.68548387 0.7016129  0.7016129  0.70967742 0.70967742 0.71774194\n",
      " 0.71774194 0.72580645 0.72580645 0.73387097 0.73387097 0.74193548\n",
      " 0.74193548 0.75       0.75       0.75806452 0.75806452 0.76612903\n",
      " 0.76612903 0.77419355 0.77419355 0.78225806 0.78225806 0.79032258\n",
      " 0.79032258 0.7983871  0.7983871  0.80645161 0.80645161 0.81451613\n",
      " 0.81451613 0.82258065 0.82258065 0.83064516 0.83064516 0.83870968\n",
      " 0.83870968 0.84677419 0.84677419 0.85483871 0.85483871 0.86290323\n",
      " 0.86290323 0.87096774 0.87096774 0.87903226 0.87903226 0.88709677\n",
      " 0.88709677 0.89516129 0.89516129 0.90322581 0.90322581 0.91129032\n",
      " 0.91129032 0.91935484 0.91935484 0.92741935 0.92741935 0.93548387\n",
      " 0.93548387 0.94354839 0.94354839 0.9516129  0.9516129  0.95967742\n",
      " 0.95967742 0.96774194 0.96774194 0.97580645 0.97580645 0.98387097\n",
      " 0.98387097 0.99193548 0.99193548 1.         1.        ]\n",
      "Thresholds: [           inf 3.07944387e-01 2.87634134e-01 2.86705315e-01\n",
      " 2.62892932e-01 2.60737002e-01 2.55812794e-01 2.54541606e-01\n",
      " 2.23534167e-01 2.22324416e-01 2.08322972e-01 2.01947808e-01\n",
      " 1.94718644e-01 1.94006205e-01 1.87206775e-01 1.86635733e-01\n",
      " 1.83016613e-01 1.81830287e-01 1.69538319e-01 1.69435307e-01\n",
      " 1.66678786e-01 1.66677102e-01 1.66654631e-01 1.65940493e-01\n",
      " 1.64478853e-01 1.64344668e-01 1.64131925e-01 1.63565546e-01\n",
      " 1.63321376e-01 1.63276747e-01 1.61815539e-01 1.61764130e-01\n",
      " 1.59353420e-01 1.59235492e-01 1.55169368e-01 1.54772535e-01\n",
      " 1.54385298e-01 1.54239282e-01 1.53503284e-01 1.53276175e-01\n",
      " 1.51884302e-01 1.51725605e-01 1.46792933e-01 1.46787181e-01\n",
      " 1.46029338e-01 1.46021947e-01 1.45276397e-01 1.44974589e-01\n",
      " 1.44806623e-01 1.44580841e-01 1.44397184e-01 1.44342244e-01\n",
      " 1.43967584e-01 1.43903315e-01 1.42496243e-01 1.42024785e-01\n",
      " 1.39790937e-01 1.39788166e-01 1.34459734e-01 1.34243593e-01\n",
      " 1.33094460e-01 1.32626846e-01 1.32131323e-01 1.32125199e-01\n",
      " 1.31925598e-01 1.31765947e-01 1.31394178e-01 1.31339267e-01\n",
      " 1.29420668e-01 1.29348278e-01 1.29015863e-01 1.28929347e-01\n",
      " 1.27749935e-01 1.27543747e-01 1.27078950e-01 1.26741797e-01\n",
      " 1.23665676e-01 1.23617671e-01 1.22939147e-01 1.22833468e-01\n",
      " 1.20729357e-01 1.20594122e-01 1.17765181e-01 1.17149957e-01\n",
      " 1.11419410e-01 1.11315690e-01 1.05771475e-01 1.05509587e-01\n",
      " 1.05192892e-01 1.05184458e-01 1.03927024e-01 1.03807166e-01\n",
      " 1.02898665e-01 1.02802858e-01 9.86245126e-02 9.81497243e-02\n",
      " 9.69934613e-02 9.69377384e-02 9.56459418e-02 9.56427008e-02\n",
      " 9.24617574e-02 9.24051777e-02 8.84594545e-02 8.83386284e-02\n",
      " 8.77231732e-02 8.77062008e-02 8.73012468e-02 8.72826502e-02\n",
      " 8.68478268e-02 8.63928944e-02 8.52660909e-02 8.50991383e-02\n",
      " 8.48612636e-02 8.48537087e-02 8.44447389e-02 8.43972713e-02\n",
      " 8.42697173e-02 8.42096135e-02 8.27967823e-02 8.27931762e-02\n",
      " 8.10846165e-02 8.10045749e-02 7.80711845e-02 7.78810307e-02\n",
      " 7.52539113e-02 7.51640424e-02 7.48893619e-02 7.47673288e-02\n",
      " 7.29921758e-02 7.28937462e-02 7.20317140e-02 7.19055980e-02\n",
      " 6.90301135e-02 6.90215379e-02 6.85895681e-02 6.84984028e-02\n",
      " 6.80018961e-02 6.79583177e-02 6.75377548e-02 6.73592538e-02\n",
      " 6.57565892e-02 6.57148734e-02 6.53970242e-02 6.49946630e-02\n",
      " 6.38045445e-02 6.37653023e-02 5.98406643e-02 5.98278828e-02\n",
      " 5.93888387e-02 5.91370873e-02 5.84265143e-02 5.81922606e-02\n",
      " 5.77063523e-02 5.76323830e-02 5.60100973e-02 5.59902340e-02\n",
      " 5.39439246e-02 5.39433807e-02 5.28448261e-02 5.28066754e-02\n",
      " 5.22438884e-02 5.22166975e-02 4.93159257e-02 4.92337979e-02\n",
      " 4.82159443e-02 4.81607877e-02 4.69488911e-02 4.69096377e-02\n",
      " 4.66187112e-02 4.64538671e-02 4.45765927e-02 4.45438474e-02\n",
      " 4.43303771e-02 4.43233773e-02 4.29978147e-02 4.28703725e-02\n",
      " 4.08997945e-02 4.08777669e-02 4.07064073e-02 4.07004207e-02\n",
      " 4.04322892e-02 4.04186770e-02 3.75521630e-02 3.74372602e-02\n",
      " 3.68591808e-02 3.68392952e-02 3.38819772e-02 3.38329747e-02\n",
      " 3.02153397e-02 3.01934946e-02 2.83512510e-02 2.82184649e-02\n",
      " 2.81943362e-02 2.81790979e-02 2.67004445e-02 2.66328193e-02\n",
      " 2.10186578e-02 2.08481364e-02 2.08017509e-02 2.07988471e-02\n",
      " 2.04396881e-02 2.03279760e-02 2.02563945e-02 2.02095713e-02\n",
      " 1.71443298e-02 1.70431603e-02 1.43276742e-02 1.42021030e-02\n",
      " 1.25266165e-02 1.24145970e-02 1.15506230e-02 1.15365153e-02\n",
      " 1.08932294e-02 1.08245891e-02 1.03953462e-02 1.03538455e-02\n",
      " 8.34616739e-03 8.33162852e-03 7.53568858e-03 7.48820696e-03\n",
      " 6.47945702e-03 6.45213015e-03 2.58523342e-03 2.46407208e-03\n",
      " 1.26727694e-03 1.13156170e-03 1.90677710e-07]\n"
     ]
    }
   ],
   "source": [
    "# Print the amounts (FPR, TPR, and thresholds)\n",
    "print(\"False Positive Rates:\", fpr)\n",
    "print(\"True Positive Rates:\", tpr)\n",
    "print(\"Thresholds:\", thresholds)"
   ]
  },
  {
   "cell_type": "markdown",
   "metadata": {},
   "source": [
    "# Tuning"
   ]
  },
  {
   "cell_type": "code",
   "execution_count": 41,
   "metadata": {},
   "outputs": [],
   "source": [
    "class TunedNet(nn.Module):\n",
    "    def __init__(self, input_dim):\n",
    "        super(TunedNet, self).__init__()\n",
    "        self.fc1 = nn.Linear(input_dim, 64)\n",
    "        self.bn1 = nn.BatchNorm1d(64)\n",
    "        self.dropout1 = nn.Dropout(0.3)\n",
    "        self.fc2 = nn.Linear(64, 32)\n",
    "        self.bn2 = nn.BatchNorm1d(32)\n",
    "        self.dropout2 = nn.Dropout(0.3)\n",
    "        self.fc3 = nn.Linear(32, 16)\n",
    "        self.dropout3 = nn.Dropout(0.2)\n",
    "        self.fc4 = nn.Linear(16, 1)  # Output logit\n",
    "\n",
    "    def forward(self, x):\n",
    "        x = torch.relu(self.bn1(self.fc1(x)))\n",
    "        x = self.dropout1(x)\n",
    "        x = torch.relu(self.bn2(self.fc2(x)))\n",
    "        x = self.dropout2(x)\n",
    "        x = torch.relu(self.fc3(x))\n",
    "        x = self.dropout3(x)\n",
    "        x = self.fc4(x)\n",
    "        return x"
   ]
  },
  {
   "cell_type": "code",
   "execution_count": 42,
   "metadata": {},
   "outputs": [],
   "source": [
    "# Instantiate the tuned model\n",
    "input_dim = X_train_np.shape[1]\n",
    "model = TunedNet(input_dim)\n"
   ]
  },
  {
   "cell_type": "code",
   "execution_count": 43,
   "metadata": {},
   "outputs": [
    {
     "name": "stderr",
     "output_type": "stream",
     "text": [
      "/Library/Frameworks/Python.framework/Versions/3.13/lib/python3.13/site-packages/torch/optim/lr_scheduler.py:62: UserWarning: The verbose parameter is deprecated. Please use get_last_lr() to access the learning rate.\n",
      "  warnings.warn(\n"
     ]
    }
   ],
   "source": [
    "# Use BCEWithLogitsLoss (which applies sigmoid internally)\n",
    "criterion = nn.BCEWithLogitsLoss()\n",
    "optimizer = optim.Adam(model.parameters(), lr=0.001, weight_decay=1e-5)\n",
    "scheduler = optim.lr_scheduler.ReduceLROnPlateau(optimizer, mode='min', factor=0.5, patience=5, verbose=True)"
   ]
  },
  {
   "cell_type": "code",
   "execution_count": 44,
   "metadata": {},
   "outputs": [
    {
     "name": "stdout",
     "output_type": "stream",
     "text": [
      "Epoch 10/150, Loss: 0.2505\n",
      "Epoch 20/150, Loss: 0.2446\n",
      "Epoch 30/150, Loss: 0.2437\n",
      "Epoch 40/150, Loss: 0.2441\n",
      "Epoch 50/150, Loss: 0.2434\n",
      "Epoch 60/150, Loss: 0.2416\n",
      "Epoch 70/150, Loss: 0.2417\n",
      "Epoch 80/150, Loss: 0.2399\n",
      "Epoch 90/150, Loss: 0.2403\n",
      "Epoch 100/150, Loss: 0.2414\n",
      "Epoch 110/150, Loss: 0.2400\n",
      "Epoch 120/150, Loss: 0.2410\n",
      "Epoch 130/150, Loss: 0.2387\n",
      "Epoch 140/150, Loss: 0.2420\n",
      "Epoch 150/150, Loss: 0.2442\n"
     ]
    }
   ],
   "source": [
    "# --- Training Loop ---\n",
    "num_epochs = 150\n",
    "for epoch in range(num_epochs):\n",
    "    model.train()\n",
    "    running_loss = 0.0\n",
    "    for features, labels in train_loader:\n",
    "        optimizer.zero_grad()\n",
    "        outputs = model(features)\n",
    "        loss = criterion(outputs, labels)\n",
    "        loss.backward()\n",
    "        optimizer.step()\n",
    "        running_loss += loss.item() * features.size(0)\n",
    "    \n",
    "    epoch_loss = running_loss / len(train_loader.dataset)\n",
    "    scheduler.step(epoch_loss)\n",
    "    \n",
    "    if (epoch + 1) % 10 == 0:\n",
    "        print(f\"Epoch {epoch+1}/{num_epochs}, Loss: {epoch_loss:.4f}\")"
   ]
  },
  {
   "cell_type": "code",
   "execution_count": 45,
   "metadata": {},
   "outputs": [],
   "source": [
    "# --- Evaluate Model and Plot ROC Curve ---\n",
    "model.eval()\n",
    "all_labels = []\n",
    "all_preds = []\n",
    "with torch.no_grad():\n",
    "    for features, labels in test_loader:\n",
    "        outputs = model(features)\n",
    "        # Convert logits to probabilities\n",
    "        probs = torch.sigmoid(outputs)\n",
    "        all_preds.extend(probs.cpu().numpy().flatten())\n",
    "        all_labels.extend(labels.cpu().numpy().flatten())"
   ]
  },
  {
   "cell_type": "code",
   "execution_count": 46,
   "metadata": {},
   "outputs": [
    {
     "name": "stdout",
     "output_type": "stream",
     "text": [
      "AUC: 0.68\n"
     ]
    }
   ],
   "source": [
    "# Compute ROC curve and AUC\n",
    "fpr, tpr, thresholds = roc_curve(all_labels, all_preds)\n",
    "roc_auc = auc(fpr, tpr)\n",
    "print(f\"AUC: {roc_auc:.2f}\")"
   ]
  },
  {
   "cell_type": "code",
   "execution_count": 47,
   "metadata": {},
   "outputs": [
    {
     "data": {
      "image/png": "[encoded data removed]",
      "text/plain": [
       "<Figure size 800x600 with 1 Axes>"
      ]
     },
     "metadata": {},
     "output_type": "display_data"
    }
   ],
   "source": [
    "# Plot ROC curve\n",
    "plt.figure(figsize=(8, 6))\n",
    "plt.plot(fpr, tpr, color='darkorange', lw=2, label=f'ROC curve (AUC = {roc_auc:.2f})')\n",
    "plt.plot([0, 1], [0, 1], color='navy', lw=2, linestyle='--')\n",
    "plt.xlabel('False Positive Rate')\n",
    "plt.ylabel('True Positive Rate')\n",
    "plt.title('Receiver Operating Characteristic (ROC) Curve')\n",
    "plt.legend(loc=\"lower right\")\n",
    "plt.show()"
   ]
  },
  {
   "cell_type": "code",
   "execution_count": 48,
   "metadata": {},
   "outputs": [
    {
     "name": "stdout",
     "output_type": "stream",
     "text": [
      "False Positive Rates: [0.00000000e+00 6.58761528e-04 3.29380764e-03 3.29380764e-03\n",
      " 5.27009223e-03 5.27009223e-03 6.58761528e-03 6.58761528e-03\n",
      " 8.56389987e-03 8.56389987e-03 1.05401845e-02 1.05401845e-02\n",
      " 1.58102767e-02 1.58102767e-02 1.91040843e-02 1.91040843e-02\n",
      " 2.37154150e-02 2.37154150e-02 2.83267457e-02 2.83267457e-02\n",
      " 3.09617918e-02 3.09617918e-02 4.08432148e-02 4.08432148e-02\n",
      " 4.47957839e-02 4.47957839e-02 4.74308300e-02 4.74308300e-02\n",
      " 5.20421607e-02 5.20421607e-02 5.33596838e-02 5.33596838e-02\n",
      " 5.99472991e-02 5.99472991e-02 6.45586298e-02 6.45586298e-02\n",
      " 6.71936759e-02 6.71936759e-02 7.11462451e-02 7.11462451e-02\n",
      " 7.70750988e-02 7.70750988e-02 7.77338603e-02 7.77338603e-02\n",
      " 8.56389987e-02 8.56389987e-02 8.69565217e-02 8.69565217e-02\n",
      " 9.68379447e-02 9.68379447e-02 1.02108037e-01 1.02108037e-01\n",
      " 1.04743083e-01 1.04743083e-01 1.18577075e-01 1.18577075e-01\n",
      " 1.26482213e-01 1.26482213e-01 1.27140975e-01 1.27140975e-01\n",
      " 1.31093544e-01 1.31093544e-01 1.39657444e-01 1.39657444e-01\n",
      " 1.46903821e-01 1.46903821e-01 1.63372859e-01 1.63372859e-01\n",
      " 1.67325428e-01 1.67325428e-01 1.68642951e-01 1.68642951e-01\n",
      " 1.73254282e-01 1.73254282e-01 1.77206851e-01 1.77206851e-01\n",
      " 1.77865613e-01 1.77865613e-01 1.79183136e-01 1.79183136e-01\n",
      " 1.85770751e-01 1.85770751e-01 1.95652174e-01 1.95652174e-01\n",
      " 2.10803689e-01 2.10803689e-01 2.16732543e-01 2.16732543e-01\n",
      " 2.17391304e-01 2.17391304e-01 2.37154150e-01 2.37154150e-01\n",
      " 2.39789196e-01 2.39789196e-01 2.45718050e-01 2.45718050e-01\n",
      " 2.60210804e-01 2.60210804e-01 2.68774704e-01 2.68774704e-01\n",
      " 2.87220026e-01 2.87220026e-01 3.01712780e-01 3.01712780e-01\n",
      " 3.03030303e-01 3.03030303e-01 3.05665349e-01 3.05665349e-01\n",
      " 3.14888011e-01 3.14888011e-01 3.40579710e-01 3.40579710e-01\n",
      " 3.61001318e-01 3.61001318e-01 3.61660079e-01 3.61660079e-01\n",
      " 3.66930171e-01 3.66930171e-01 3.68247694e-01 3.68247694e-01\n",
      " 3.82740448e-01 3.82740448e-01 3.84716733e-01 3.84716733e-01\n",
      " 3.95256917e-01 3.95256917e-01 4.29512516e-01 4.29512516e-01\n",
      " 4.45322793e-01 4.45322793e-01 4.46640316e-01 4.46640316e-01\n",
      " 4.55862978e-01 4.55862978e-01 4.63768116e-01 4.63768116e-01\n",
      " 4.88142292e-01 4.88142292e-01 4.90777339e-01 4.90777339e-01\n",
      " 5.08563900e-01 5.08563900e-01 5.15810277e-01 5.15810277e-01\n",
      " 5.23056653e-01 5.23056653e-01 5.26350461e-01 5.26350461e-01\n",
      " 5.28985507e-01 5.28985507e-01 5.37549407e-01 5.37549407e-01\n",
      " 5.42819499e-01 5.42819499e-01 5.56653491e-01 5.56653491e-01\n",
      " 5.60606061e-01 5.60606061e-01 5.73122530e-01 5.73122530e-01\n",
      " 5.73781291e-01 5.73781291e-01 5.77733860e-01 5.77733860e-01\n",
      " 5.78392622e-01 5.78392622e-01 5.81686430e-01 5.81686430e-01\n",
      " 5.98155468e-01 5.98155468e-01 6.02766798e-01 6.02766798e-01\n",
      " 6.38998682e-01 6.38998682e-01 6.43610013e-01 6.43610013e-01\n",
      " 6.62055336e-01 6.62055336e-01 6.78524374e-01 6.78524374e-01\n",
      " 6.91040843e-01 6.91040843e-01 6.94334651e-01 6.94334651e-01\n",
      " 7.17391304e-01 7.17391304e-01 7.21343874e-01 7.21343874e-01\n",
      " 7.23978920e-01 7.23978920e-01 7.39789196e-01 7.39789196e-01\n",
      " 7.76679842e-01 7.76679842e-01 7.87220026e-01 7.87220026e-01\n",
      " 7.89196311e-01 7.89196311e-01 7.91831357e-01 7.91831357e-01\n",
      " 8.11594203e-01 8.11594203e-01 8.32674572e-01 8.32674572e-01\n",
      " 8.36627141e-01 8.36627141e-01 8.72200264e-01 8.72200264e-01\n",
      " 9.03162055e-01 9.03162055e-01 1.00000000e+00]\n",
      "True Positive Rates: [0.         0.         0.         0.00806452 0.00806452 0.01612903\n",
      " 0.01612903 0.03225806 0.03225806 0.04032258 0.04032258 0.06451613\n",
      " 0.06451613 0.08870968 0.08870968 0.09677419 0.09677419 0.10483871\n",
      " 0.10483871 0.11290323 0.11290323 0.12096774 0.12096774 0.12903226\n",
      " 0.12903226 0.13709677 0.13709677 0.15322581 0.15322581 0.16129032\n",
      " 0.16129032 0.16935484 0.16935484 0.17741935 0.17741935 0.2016129\n",
      " 0.2016129  0.21774194 0.21774194 0.22580645 0.22580645 0.24193548\n",
      " 0.24193548 0.25       0.25       0.25806452 0.25806452 0.26612903\n",
      " 0.26612903 0.27419355 0.27419355 0.28225806 0.28225806 0.29032258\n",
      " 0.29032258 0.31451613 0.31451613 0.32258065 0.32258065 0.33064516\n",
      " 0.33064516 0.33870968 0.33870968 0.34677419 0.34677419 0.35483871\n",
      " 0.35483871 0.36290323 0.36290323 0.37096774 0.37096774 0.37903226\n",
      " 0.37903226 0.39516129 0.39516129 0.41129032 0.41129032 0.41935484\n",
      " 0.41935484 0.42741935 0.42741935 0.43548387 0.43548387 0.44354839\n",
      " 0.44354839 0.45967742 0.45967742 0.46774194 0.46774194 0.47580645\n",
      " 0.47580645 0.48387097 0.48387097 0.49193548 0.49193548 0.5\n",
      " 0.5        0.50806452 0.50806452 0.51612903 0.51612903 0.52419355\n",
      " 0.52419355 0.53225806 0.53225806 0.54032258 0.54032258 0.5483871\n",
      " 0.5483871  0.55645161 0.55645161 0.56451613 0.56451613 0.58064516\n",
      " 0.58064516 0.58870968 0.58870968 0.59677419 0.59677419 0.61290323\n",
      " 0.61290323 0.62096774 0.62096774 0.62903226 0.62903226 0.63709677\n",
      " 0.63709677 0.64516129 0.64516129 0.65322581 0.65322581 0.66129032\n",
      " 0.66129032 0.67741935 0.67741935 0.68548387 0.68548387 0.69354839\n",
      " 0.69354839 0.7016129  0.7016129  0.70967742 0.70967742 0.71774194\n",
      " 0.71774194 0.72580645 0.72580645 0.74193548 0.74193548 0.75\n",
      " 0.75       0.75806452 0.75806452 0.76612903 0.76612903 0.77419355\n",
      " 0.77419355 0.78225806 0.78225806 0.79032258 0.79032258 0.7983871\n",
      " 0.7983871  0.80645161 0.80645161 0.81451613 0.81451613 0.82258065\n",
      " 0.82258065 0.83064516 0.83064516 0.83870968 0.83870968 0.84677419\n",
      " 0.84677419 0.85483871 0.85483871 0.86290323 0.86290323 0.87096774\n",
      " 0.87096774 0.87903226 0.87903226 0.88709677 0.88709677 0.89516129\n",
      " 0.89516129 0.91129032 0.91129032 0.91935484 0.91935484 0.92741935\n",
      " 0.92741935 0.93548387 0.93548387 0.94354839 0.94354839 0.9516129\n",
      " 0.9516129  0.95967742 0.95967742 0.96774194 0.96774194 0.97580645\n",
      " 0.97580645 0.98387097 0.98387097 0.99193548 0.99193548 1.\n",
      " 1.        ]\n",
      "Thresholds: [       inf 0.20733877 0.19646037 0.1963066  0.19185475 0.19038893\n",
      " 0.1887667  0.18769673 0.18540807 0.18468453 0.18350251 0.18187201\n",
      " 0.17946114 0.17904575 0.17778169 0.17769665 0.1759861  0.17537424\n",
      " 0.17261797 0.17246953 0.17172056 0.17149237 0.16840531 0.16833277\n",
      " 0.16762789 0.16761453 0.16703342 0.16683254 0.16513796 0.16509326\n",
      " 0.1643365  0.16433349 0.16175418 0.1617281  0.16003159 0.15982829\n",
      " 0.15942115 0.15898688 0.15787864 0.1574224  0.15623465 0.15618198\n",
      " 0.15588507 0.15576449 0.15381275 0.15368657 0.15358052 0.15353908\n",
      " 0.15162697 0.15121259 0.15034959 0.15022732 0.1495513  0.14929792\n",
      " 0.14631915 0.14609383 0.14299963 0.14281799 0.14261173 0.14235537\n",
      " 0.14090733 0.1408654  0.13908249 0.13872682 0.13773817 0.1377092\n",
      " 0.13477992 0.13436154 0.1329506  0.13273586 0.13235149 0.13212582\n",
      " 0.1306868  0.13020699 0.12850656 0.12841167 0.12822416 0.12798788\n",
      " 0.12757123 0.12725987 0.12577109 0.12560368 0.12265749 0.12255801\n",
      " 0.11937413 0.11934191 0.11800753 0.11793867 0.11773871 0.11759083\n",
      " 0.11357064 0.112959   0.11271787 0.11264373 0.11193068 0.11189699\n",
      " 0.10830702 0.10825256 0.10616533 0.10600485 0.1029981  0.10283557\n",
      " 0.09944544 0.09943686 0.09919503 0.09911847 0.09863231 0.09855143\n",
      " 0.09737808 0.09731501 0.09335439 0.09312355 0.09014281 0.0899765\n",
      " 0.08967484 0.08964016 0.088479   0.08837252 0.08809337 0.08760516\n",
      " 0.08462624 0.0846227  0.08429966 0.08429771 0.08251417 0.08234692\n",
      " 0.078127   0.07808768 0.07670701 0.07662007 0.07652718 0.0765186\n",
      " 0.07574815 0.07566431 0.07398379 0.07393163 0.07012117 0.07008389\n",
      " 0.06949278 0.06942302 0.06734172 0.06730326 0.06662852 0.06660552\n",
      " 0.06555455 0.06554573 0.06523928 0.06518783 0.06499664 0.06468464\n",
      " 0.06361241 0.06345214 0.06251662 0.06234885 0.0607073  0.06066526\n",
      " 0.05980448 0.05965602 0.05833391 0.05831136 0.05822704 0.05818541\n",
      " 0.05757408 0.05755167 0.05755154 0.05754859 0.05715172 0.05712847\n",
      " 0.05536253 0.05533978 0.05488666 0.05484732 0.05161009 0.05155912\n",
      " 0.05096293 0.05094061 0.04917001 0.04909511 0.04741431 0.04733013\n",
      " 0.0452471  0.04521563 0.04505447 0.04501557 0.04300672 0.0429887\n",
      " 0.04265805 0.04260683 0.04255039 0.04251184 0.04136388 0.04121412\n",
      " 0.03668203 0.03657732 0.03526797 0.03511068 0.03475468 0.03460557\n",
      " 0.03417255 0.03404815 0.03201779 0.03200629 0.02943089 0.02935258\n",
      " 0.02887454 0.02881882 0.02461319 0.02443902 0.02041262 0.02031805\n",
      " 0.00129277]\n"
     ]
    }
   ],
   "source": [
    "# Print the ROC amounts\n",
    "print(\"False Positive Rates:\", fpr)\n",
    "print(\"True Positive Rates:\", tpr)\n",
    "print(\"Thresholds:\", thresholds)"
   ]
  },
  {
   "cell_type": "markdown",
   "metadata": {},
   "source": [
    "# Further tuning of another model, emulating AUC 0.8 model"
   ]
  },
  {
   "cell_type": "code",
   "execution_count": 49,
   "metadata": {},
   "outputs": [],
   "source": [
    "# --- Define the PyTorch Model (Equivalent to the Keras model) ---\n",
    "class SimpleNet(nn.Module):\n",
    "    def __init__(self, input_dim):\n",
    "        super(SimpleNet, self).__init__()\n",
    "        self.fc1 = nn.Linear(input_dim, 16)\n",
    "        self.fc2 = nn.Linear(16, 8)\n",
    "        self.fc3 = nn.Linear(8, 1)  # Output layer for binary classification\n",
    "\n",
    "    def forward(self, x):\n",
    "        x = torch.relu(self.fc1(x))\n",
    "        x = torch.relu(self.fc2(x))\n",
    "        x = torch.sigmoid(self.fc3(x))  # Apply sigmoid to mimic Keras model output\n",
    "        return x"
   ]
  },
  {
   "cell_type": "code",
   "execution_count": 50,
   "metadata": {},
   "outputs": [],
   "source": [
    "# Instantiate the model using the input dimension from your data\n",
    "input_dim = X_train_np.shape[1]\n",
    "model = SimpleNet(input_dim)\n",
    "\n",
    "# Define the loss function and optimizer (matching Keras' binary_crossentropy and adam)\n",
    "criterion = nn.BCELoss()  # Binary Cross Entropy Loss\n",
    "optimizer = optim.Adam(model.parameters(), lr=0.001)"
   ]
  },
  {
   "cell_type": "code",
   "execution_count": 51,
   "metadata": {},
   "outputs": [
    {
     "name": "stdout",
     "output_type": "stream",
     "text": [
      "Epoch 10/100, Loss: 0.2458\n",
      "Epoch 20/100, Loss: 0.2413\n",
      "Epoch 30/100, Loss: 0.2399\n",
      "Epoch 40/100, Loss: 0.2388\n",
      "Epoch 50/100, Loss: 0.2374\n",
      "Epoch 60/100, Loss: 0.2367\n",
      "Epoch 70/100, Loss: 0.2359\n",
      "Epoch 80/100, Loss: 0.2345\n",
      "Epoch 90/100, Loss: 0.2341\n",
      "Epoch 100/100, Loss: 0.2327\n"
     ]
    }
   ],
   "source": [
    "# --- Training Loop ---\n",
    "num_epochs = 100\n",
    "for epoch in range(num_epochs):\n",
    "    model.train()\n",
    "    running_loss = 0.0\n",
    "    for features, labels in train_loader:\n",
    "        optimizer.zero_grad()                # Clear gradients\n",
    "        outputs = model(features)              # Forward pass\n",
    "        loss = criterion(outputs, labels)      # Compute loss\n",
    "        loss.backward()                        # Backpropagation\n",
    "        optimizer.step()                       # Update parameters\n",
    "        running_loss += loss.item() * features.size(0)\n",
    "    \n",
    "    epoch_loss = running_loss / len(train_loader.dataset)\n",
    "    if (epoch + 1) % 10 == 0:\n",
    "        print(f\"Epoch {epoch+1}/{num_epochs}, Loss: {epoch_loss:.4f}\")"
   ]
  },
  {
   "cell_type": "code",
   "execution_count": 52,
   "metadata": {},
   "outputs": [
    {
     "name": "stdout",
     "output_type": "stream",
     "text": [
      "Test Accuracy: 0.9245\n"
     ]
    }
   ],
   "source": [
    "# --- Evaluation ---\n",
    "model.eval()\n",
    "correct = 0\n",
    "total = 0\n",
    "with torch.no_grad():\n",
    "    for features, labels in test_loader:\n",
    "        outputs = model(features)\n",
    "        predicted = (outputs > 0.5).float()  # Threshold at 0.5 for binary classification\n",
    "        total += labels.size(0)\n",
    "        correct += (predicted == labels).sum().item()\n",
    "\n",
    "accuracy = correct / total\n",
    "print(f\"Test Accuracy: {accuracy:.4f}\")"
   ]
  },
  {
   "cell_type": "code",
   "execution_count": 54,
   "metadata": {},
   "outputs": [
    {
     "name": "stdout",
     "output_type": "stream",
     "text": [
      "AUC: 0.64\n"
     ]
    }
   ],
   "source": [
    "model.eval()\n",
    "\n",
    "all_labels = []\n",
    "all_probs = []\n",
    "\n",
    "# Gather predicted probabilities and true labels from the test set\n",
    "with torch.no_grad():\n",
    "    for features, labels in test_loader:\n",
    "        outputs = model(features)  # outputs are probabilities due to sigmoid activation\n",
    "        all_probs.extend(outputs.cpu().numpy().flatten())\n",
    "        all_labels.extend(labels.cpu().numpy().flatten())\n",
    "\n",
    "# Compute the ROC curve and AUC\n",
    "fpr, tpr, thresholds = roc_curve(all_labels, all_probs)\n",
    "roc_auc = auc(fpr, tpr)\n",
    "print(f\"AUC: {roc_auc:.2f}\")"
   ]
  },
  {
   "cell_type": "code",
   "execution_count": 55,
   "metadata": {},
   "outputs": [
    {
     "data": {
      "image/png": "[encoded data removed]",
      "text/plain": [
       "<Figure size 800x600 with 1 Axes>"
      ]
     },
     "metadata": {},
     "output_type": "display_data"
    }
   ],
   "source": [
    "# Plot the ROC curve\n",
    "plt.figure(figsize=(8, 6))\n",
    "plt.plot(fpr, tpr, color='darkorange', lw=2, label=f'ROC curve (AUC = {roc_auc:.2f})')\n",
    "plt.plot([0, 1], [0, 1], color='navy', lw=2, linestyle='--')\n",
    "plt.xlabel('False Positive Rate')\n",
    "plt.ylabel('True Positive Rate')\n",
    "plt.title('Receiver Operating Characteristic (ROC) Curve')\n",
    "plt.legend(loc=\"lower right\")\n",
    "plt.show()\n"
   ]
  },
  {
   "cell_type": "code",
   "execution_count": 56,
   "metadata": {},
   "outputs": [
    {
     "name": "stdout",
     "output_type": "stream",
     "text": [
      "False Positive Rates: [0.00000000e+00 6.58761528e-04 2.63504611e-03 2.63504611e-03\n",
      " 6.58761528e-03 6.58761528e-03 1.18577075e-02 1.18577075e-02\n",
      " 1.25164690e-02 1.25164690e-02 1.71277997e-02 1.71277997e-02\n",
      " 1.77865613e-02 1.77865613e-02 1.97628458e-02 1.97628458e-02\n",
      " 3.42555995e-02 3.42555995e-02 3.49143610e-02 3.49143610e-02\n",
      " 3.62318841e-02 3.62318841e-02 4.08432148e-02 4.08432148e-02\n",
      " 4.15019763e-02 4.15019763e-02 4.41370224e-02 4.41370224e-02\n",
      " 5.79710145e-02 5.79710145e-02 5.92885375e-02 5.92885375e-02\n",
      " 6.45586298e-02 6.45586298e-02 6.58761528e-02 6.58761528e-02\n",
      " 6.65349144e-02 6.65349144e-02 7.18050066e-02 7.18050066e-02\n",
      " 7.83926219e-02 7.83926219e-02 8.62977602e-02 8.62977602e-02\n",
      " 8.76152833e-02 8.76152833e-02 9.15678524e-02 9.15678524e-02\n",
      " 9.28853755e-02 9.28853755e-02 9.48616601e-02 9.48616601e-02\n",
      " 9.55204216e-02 9.55204216e-02 9.88142292e-02 9.88142292e-02\n",
      " 1.02766798e-01 1.02766798e-01 1.04084321e-01 1.04084321e-01\n",
      " 1.08695652e-01 1.08695652e-01 1.17918314e-01 1.17918314e-01\n",
      " 1.20553360e-01 1.20553360e-01 1.27799736e-01 1.27799736e-01\n",
      " 1.34387352e-01 1.34387352e-01 1.41633729e-01 1.41633729e-01\n",
      " 1.51515152e-01 1.51515152e-01 1.54808959e-01 1.54808959e-01\n",
      " 1.60079051e-01 1.60079051e-01 1.85770751e-01 1.85770751e-01\n",
      " 2.00922266e-01 2.00922266e-01 2.08827404e-01 2.08827404e-01\n",
      " 2.22002635e-01 2.22002635e-01 2.33201581e-01 2.33201581e-01\n",
      " 2.37812912e-01 2.37812912e-01 2.41106719e-01 2.41106719e-01\n",
      " 2.58234519e-01 2.58234519e-01 2.60210804e-01 2.60210804e-01\n",
      " 2.60869565e-01 2.60869565e-01 2.70092227e-01 2.70092227e-01\n",
      " 2.81949934e-01 2.81949934e-01 2.88537549e-01 2.88537549e-01\n",
      " 2.91831357e-01 2.91831357e-01 2.93148880e-01 2.93148880e-01\n",
      " 2.97101449e-01 2.97101449e-01 2.99077734e-01 2.99077734e-01\n",
      " 3.01712780e-01 3.01712780e-01 3.22134387e-01 3.22134387e-01\n",
      " 3.25428195e-01 3.25428195e-01 3.27404480e-01 3.27404480e-01\n",
      " 3.47826087e-01 3.47826087e-01 3.51778656e-01 3.51778656e-01\n",
      " 3.67588933e-01 3.67588933e-01 3.74835310e-01 3.74835310e-01\n",
      " 3.80764163e-01 3.80764163e-01 3.84716733e-01 3.84716733e-01\n",
      " 3.87351779e-01 3.87351779e-01 4.01844532e-01 4.01844532e-01\n",
      " 4.07114625e-01 4.07114625e-01 4.18972332e-01 4.18972332e-01\n",
      " 4.24242424e-01 4.24242424e-01 4.38735178e-01 4.38735178e-01\n",
      " 4.45322793e-01 4.45322793e-01 4.47299078e-01 4.47299078e-01\n",
      " 4.56521739e-01 4.56521739e-01 4.96706192e-01 4.96706192e-01\n",
      " 5.46113307e-01 5.46113307e-01 5.57312253e-01 5.57312253e-01\n",
      " 5.60606061e-01 5.60606061e-01 5.72463768e-01 5.72463768e-01\n",
      " 5.76416337e-01 5.76416337e-01 5.78392622e-01 5.78392622e-01\n",
      " 5.82345191e-01 5.82345191e-01 5.84980237e-01 5.84980237e-01\n",
      " 5.87615283e-01 5.87615283e-01 6.23188406e-01 6.23188406e-01\n",
      " 6.30434783e-01 6.30434783e-01 6.42292490e-01 6.42292490e-01\n",
      " 6.64031621e-01 6.64031621e-01 6.74571805e-01 6.74571805e-01\n",
      " 6.81159420e-01 6.81159420e-01 6.85111989e-01 6.85111989e-01\n",
      " 6.87747036e-01 6.87747036e-01 6.98287220e-01 6.98287220e-01\n",
      " 6.99604743e-01 6.99604743e-01 7.06851120e-01 7.06851120e-01\n",
      " 7.07509881e-01 7.07509881e-01 7.11462451e-01 7.11462451e-01\n",
      " 7.27272727e-01 7.27272727e-01 7.61528327e-01 7.61528327e-01\n",
      " 7.67457181e-01 7.67457181e-01 7.76021080e-01 7.76021080e-01\n",
      " 8.01054018e-01 8.01054018e-01 8.15546772e-01 8.15546772e-01\n",
      " 8.18840580e-01 8.18840580e-01 8.28722003e-01 8.28722003e-01\n",
      " 8.59025033e-01 8.59025033e-01 8.68906456e-01 8.68906456e-01\n",
      " 8.71541502e-01 8.71541502e-01 9.05138340e-01 9.05138340e-01\n",
      " 9.37417655e-01 9.37417655e-01 9.43346509e-01 9.43346509e-01\n",
      " 9.51251647e-01 9.51251647e-01 9.65085639e-01 9.65085639e-01\n",
      " 1.00000000e+00]\n",
      "True Positive Rates: [0.         0.         0.         0.00806452 0.00806452 0.02419355\n",
      " 0.02419355 0.03225806 0.03225806 0.04032258 0.04032258 0.0483871\n",
      " 0.0483871  0.05645161 0.05645161 0.06451613 0.06451613 0.07258065\n",
      " 0.07258065 0.08064516 0.08064516 0.10483871 0.10483871 0.11290323\n",
      " 0.11290323 0.12903226 0.12903226 0.13709677 0.13709677 0.14516129\n",
      " 0.14516129 0.15322581 0.15322581 0.16129032 0.16129032 0.16935484\n",
      " 0.16935484 0.17741935 0.17741935 0.18548387 0.18548387 0.19354839\n",
      " 0.19354839 0.2016129  0.2016129  0.20967742 0.20967742 0.21774194\n",
      " 0.21774194 0.22580645 0.22580645 0.24193548 0.24193548 0.25\n",
      " 0.25       0.25806452 0.25806452 0.27419355 0.27419355 0.28225806\n",
      " 0.28225806 0.29032258 0.29032258 0.2983871  0.2983871  0.30645161\n",
      " 0.30645161 0.31451613 0.31451613 0.32258065 0.32258065 0.33870968\n",
      " 0.33870968 0.34677419 0.34677419 0.36290323 0.36290323 0.37096774\n",
      " 0.37096774 0.37903226 0.37903226 0.38709677 0.38709677 0.39516129\n",
      " 0.39516129 0.40322581 0.40322581 0.41129032 0.41129032 0.41935484\n",
      " 0.41935484 0.43548387 0.43548387 0.44354839 0.44354839 0.4516129\n",
      " 0.4516129  0.45967742 0.45967742 0.46774194 0.46774194 0.47580645\n",
      " 0.47580645 0.48387097 0.48387097 0.49193548 0.49193548 0.5\n",
      " 0.5        0.50806452 0.50806452 0.51612903 0.51612903 0.52419355\n",
      " 0.52419355 0.53225806 0.53225806 0.54032258 0.54032258 0.5483871\n",
      " 0.5483871  0.55645161 0.55645161 0.56451613 0.56451613 0.57258065\n",
      " 0.57258065 0.58064516 0.58064516 0.58870968 0.58870968 0.59677419\n",
      " 0.59677419 0.60483871 0.60483871 0.61290323 0.61290323 0.62096774\n",
      " 0.62096774 0.62903226 0.62903226 0.63709677 0.63709677 0.64516129\n",
      " 0.64516129 0.65322581 0.65322581 0.66129032 0.66129032 0.66935484\n",
      " 0.66935484 0.67741935 0.67741935 0.68548387 0.68548387 0.69354839\n",
      " 0.69354839 0.7016129  0.7016129  0.70967742 0.70967742 0.71774194\n",
      " 0.71774194 0.72580645 0.72580645 0.73387097 0.73387097 0.74193548\n",
      " 0.74193548 0.75       0.75       0.75806452 0.75806452 0.76612903\n",
      " 0.76612903 0.77419355 0.77419355 0.78225806 0.78225806 0.79032258\n",
      " 0.79032258 0.80645161 0.80645161 0.81451613 0.81451613 0.82258065\n",
      " 0.82258065 0.83064516 0.83064516 0.83870968 0.83870968 0.85483871\n",
      " 0.85483871 0.86290323 0.86290323 0.87096774 0.87096774 0.87903226\n",
      " 0.87903226 0.88709677 0.88709677 0.89516129 0.89516129 0.90322581\n",
      " 0.90322581 0.91129032 0.91129032 0.91935484 0.91935484 0.92741935\n",
      " 0.92741935 0.93548387 0.93548387 0.94354839 0.94354839 0.9516129\n",
      " 0.9516129  0.95967742 0.95967742 0.96774194 0.96774194 0.97580645\n",
      " 0.97580645 0.98387097 0.98387097 0.99193548 0.99193548 1.\n",
      " 1.        ]\n",
      "Thresholds: [           inf 3.23257297e-01 2.62114584e-01 2.61619508e-01\n",
      " 2.41245836e-01 2.38276169e-01 2.23069787e-01 2.20797047e-01\n",
      " 2.18020722e-01 2.12886617e-01 2.07545474e-01 2.07485929e-01\n",
      " 2.07402274e-01 2.06613600e-01 2.03529179e-01 2.02136755e-01\n",
      " 1.83005571e-01 1.82039365e-01 1.81877464e-01 1.81847617e-01\n",
      " 1.81366220e-01 1.79999754e-01 1.77873522e-01 1.77766368e-01\n",
      " 1.76969841e-01 1.75747201e-01 1.74404502e-01 1.74399018e-01\n",
      " 1.68176964e-01 1.67497590e-01 1.66851416e-01 1.66046932e-01\n",
      " 1.63477585e-01 1.63284883e-01 1.62634850e-01 1.61579102e-01\n",
      " 1.61169499e-01 1.60836741e-01 1.59618825e-01 1.58786237e-01\n",
      " 1.56011015e-01 1.55927896e-01 1.53934672e-01 1.53749362e-01\n",
      " 1.53399363e-01 1.53331950e-01 1.52032182e-01 1.51943207e-01\n",
      " 1.51795596e-01 1.51458710e-01 1.50528520e-01 1.49900407e-01\n",
      " 1.49707079e-01 1.49605498e-01 1.49318382e-01 1.49109989e-01\n",
      " 1.48295373e-01 1.47877082e-01 1.47140265e-01 1.46928221e-01\n",
      " 1.45519003e-01 1.45388961e-01 1.42876878e-01 1.42699182e-01\n",
      " 1.41824558e-01 1.41765535e-01 1.39156297e-01 1.39127418e-01\n",
      " 1.37964904e-01 1.37639835e-01 1.34960026e-01 1.34728134e-01\n",
      " 1.31384164e-01 1.31305665e-01 1.30742773e-01 1.30185276e-01\n",
      " 1.28476441e-01 1.28444299e-01 1.22633882e-01 1.22542821e-01\n",
      " 1.19768858e-01 1.19689010e-01 1.18056536e-01 1.17983073e-01\n",
      " 1.15663506e-01 1.15658537e-01 1.12594388e-01 1.12277940e-01\n",
      " 1.10718071e-01 1.10570721e-01 1.09848745e-01 1.09785184e-01\n",
      " 1.05740152e-01 1.05684794e-01 1.05416127e-01 1.04822151e-01\n",
      " 1.04663439e-01 1.04448393e-01 1.02017194e-01 1.01682968e-01\n",
      " 1.00253507e-01 1.00157090e-01 9.93611142e-02 9.92556140e-02\n",
      " 9.88257900e-02 9.87516865e-02 9.83633548e-02 9.81177166e-02\n",
      " 9.72632989e-02 9.70455483e-02 9.66280624e-02 9.66119692e-02\n",
      " 9.59783569e-02 9.59532037e-02 9.17776302e-02 9.16341841e-02\n",
      " 9.08402652e-02 9.07719061e-02 9.05499160e-02 9.04737264e-02\n",
      " 8.61368179e-02 8.61342475e-02 8.54464024e-02 8.54449272e-02\n",
      " 8.38231668e-02 8.37366208e-02 8.27002749e-02 8.19359049e-02\n",
      " 8.12407807e-02 8.09771717e-02 8.02925155e-02 8.02622363e-02\n",
      " 7.98630044e-02 7.98567533e-02 7.80863389e-02 7.79868439e-02\n",
      " 7.73331225e-02 7.71149993e-02 7.53683001e-02 7.51201287e-02\n",
      " 7.43156895e-02 7.43007660e-02 7.26919696e-02 7.25812539e-02\n",
      " 7.18480572e-02 7.18050450e-02 7.15593398e-02 7.12995976e-02\n",
      " 7.04872087e-02 7.02634677e-02 6.57073632e-02 6.56466782e-02\n",
      " 5.88595979e-02 5.88508584e-02 5.76910302e-02 5.76573908e-02\n",
      " 5.74174412e-02 5.72331809e-02 5.60549274e-02 5.60041964e-02\n",
      " 5.53777032e-02 5.53695075e-02 5.50994016e-02 5.49821779e-02\n",
      " 5.43557331e-02 5.42742498e-02 5.40287979e-02 5.40086553e-02\n",
      " 5.38868159e-02 5.37164360e-02 4.98934537e-02 4.97759432e-02\n",
      " 4.91118133e-02 4.90931235e-02 4.81664054e-02 4.81122434e-02\n",
      " 4.62334231e-02 4.62094992e-02 4.52563465e-02 4.52360772e-02\n",
      " 4.47340421e-02 4.46737669e-02 4.44614887e-02 4.44189124e-02\n",
      " 4.41342928e-02 4.39769924e-02 4.25298624e-02 4.24514450e-02\n",
      " 4.22560610e-02 4.22509462e-02 4.15435918e-02 4.13521752e-02\n",
      " 4.12896238e-02 4.11458910e-02 4.07730862e-02 4.07090969e-02\n",
      " 3.94092463e-02 3.93639021e-02 3.63376588e-02 3.62680815e-02\n",
      " 3.56987678e-02 3.56892832e-02 3.45446765e-02 3.44412737e-02\n",
      " 3.20724510e-02 3.19098122e-02 3.06007732e-02 3.05558760e-02\n",
      " 2.97625251e-02 2.96222102e-02 2.72731483e-02 2.72399113e-02\n",
      " 2.37035751e-02 2.36973800e-02 2.19660625e-02 2.18656491e-02\n",
      " 2.12644245e-02 2.12108530e-02 1.57559253e-02 1.57393701e-02\n",
      " 1.05852056e-02 1.03611378e-02 9.04898066e-03 8.94316472e-03\n",
      " 7.61123421e-03 7.58035807e-03 6.06153719e-03 6.03767904e-03\n",
      " 2.10435144e-04]\n"
     ]
    }
   ],
   "source": [
    "# Optionally, print the ROC amounts\n",
    "print(\"False Positive Rates:\", fpr)\n",
    "print(\"True Positive Rates:\", tpr)\n",
    "print(\"Thresholds:\", thresholds)"
   ]
  },
  {
   "cell_type": "markdown",
   "metadata": {},
   "source": [
    "# Use 5 Cross fold valuation"
   ]
  },
  {
   "cell_type": "code",
   "execution_count": 57,
   "metadata": {},
   "outputs": [
    {
     "name": "stdout",
     "output_type": "stream",
     "text": [
      "AUC: 0.64\n"
     ]
    },
    {
     "data": {
      "image/png": "[encoded data removed]",
      "text/plain": [
       "<Figure size 800x600 with 1 Axes>"
      ]
     },
     "metadata": {},
     "output_type": "display_data"
    },
    {
     "name": "stdout",
     "output_type": "stream",
     "text": [
      "False Positive Rates: [0.00000000e+00 6.58761528e-04 2.63504611e-03 2.63504611e-03\n",
      " 6.58761528e-03 6.58761528e-03 1.18577075e-02 1.18577075e-02\n",
      " 1.25164690e-02 1.25164690e-02 1.71277997e-02 1.71277997e-02\n",
      " 1.77865613e-02 1.77865613e-02 1.97628458e-02 1.97628458e-02\n",
      " 3.42555995e-02 3.42555995e-02 3.49143610e-02 3.49143610e-02\n",
      " 3.62318841e-02 3.62318841e-02 4.08432148e-02 4.08432148e-02\n",
      " 4.15019763e-02 4.15019763e-02 4.41370224e-02 4.41370224e-02\n",
      " 5.79710145e-02 5.79710145e-02 5.92885375e-02 5.92885375e-02\n",
      " 6.45586298e-02 6.45586298e-02 6.58761528e-02 6.58761528e-02\n",
      " 6.65349144e-02 6.65349144e-02 7.18050066e-02 7.18050066e-02\n",
      " 7.83926219e-02 7.83926219e-02 8.62977602e-02 8.62977602e-02\n",
      " 8.76152833e-02 8.76152833e-02 9.15678524e-02 9.15678524e-02\n",
      " 9.28853755e-02 9.28853755e-02 9.48616601e-02 9.48616601e-02\n",
      " 9.55204216e-02 9.55204216e-02 9.88142292e-02 9.88142292e-02\n",
      " 1.02766798e-01 1.02766798e-01 1.04084321e-01 1.04084321e-01\n",
      " 1.08695652e-01 1.08695652e-01 1.17918314e-01 1.17918314e-01\n",
      " 1.20553360e-01 1.20553360e-01 1.27799736e-01 1.27799736e-01\n",
      " 1.34387352e-01 1.34387352e-01 1.41633729e-01 1.41633729e-01\n",
      " 1.51515152e-01 1.51515152e-01 1.54808959e-01 1.54808959e-01\n",
      " 1.60079051e-01 1.60079051e-01 1.85770751e-01 1.85770751e-01\n",
      " 2.00922266e-01 2.00922266e-01 2.08827404e-01 2.08827404e-01\n",
      " 2.22002635e-01 2.22002635e-01 2.33201581e-01 2.33201581e-01\n",
      " 2.37812912e-01 2.37812912e-01 2.41106719e-01 2.41106719e-01\n",
      " 2.58234519e-01 2.58234519e-01 2.60210804e-01 2.60210804e-01\n",
      " 2.60869565e-01 2.60869565e-01 2.70092227e-01 2.70092227e-01\n",
      " 2.81949934e-01 2.81949934e-01 2.88537549e-01 2.88537549e-01\n",
      " 2.91831357e-01 2.91831357e-01 2.93148880e-01 2.93148880e-01\n",
      " 2.97101449e-01 2.97101449e-01 2.99077734e-01 2.99077734e-01\n",
      " 3.01712780e-01 3.01712780e-01 3.22134387e-01 3.22134387e-01\n",
      " 3.25428195e-01 3.25428195e-01 3.27404480e-01 3.27404480e-01\n",
      " 3.47826087e-01 3.47826087e-01 3.51778656e-01 3.51778656e-01\n",
      " 3.67588933e-01 3.67588933e-01 3.74835310e-01 3.74835310e-01\n",
      " 3.80764163e-01 3.80764163e-01 3.84716733e-01 3.84716733e-01\n",
      " 3.87351779e-01 3.87351779e-01 4.01844532e-01 4.01844532e-01\n",
      " 4.07114625e-01 4.07114625e-01 4.18972332e-01 4.18972332e-01\n",
      " 4.24242424e-01 4.24242424e-01 4.38735178e-01 4.38735178e-01\n",
      " 4.45322793e-01 4.45322793e-01 4.47299078e-01 4.47299078e-01\n",
      " 4.56521739e-01 4.56521739e-01 4.96706192e-01 4.96706192e-01\n",
      " 5.46113307e-01 5.46113307e-01 5.57312253e-01 5.57312253e-01\n",
      " 5.60606061e-01 5.60606061e-01 5.72463768e-01 5.72463768e-01\n",
      " 5.76416337e-01 5.76416337e-01 5.78392622e-01 5.78392622e-01\n",
      " 5.82345191e-01 5.82345191e-01 5.84980237e-01 5.84980237e-01\n",
      " 5.87615283e-01 5.87615283e-01 6.23188406e-01 6.23188406e-01\n",
      " 6.30434783e-01 6.30434783e-01 6.42292490e-01 6.42292490e-01\n",
      " 6.64031621e-01 6.64031621e-01 6.74571805e-01 6.74571805e-01\n",
      " 6.81159420e-01 6.81159420e-01 6.85111989e-01 6.85111989e-01\n",
      " 6.87747036e-01 6.87747036e-01 6.98287220e-01 6.98287220e-01\n",
      " 6.99604743e-01 6.99604743e-01 7.06851120e-01 7.06851120e-01\n",
      " 7.07509881e-01 7.07509881e-01 7.11462451e-01 7.11462451e-01\n",
      " 7.27272727e-01 7.27272727e-01 7.61528327e-01 7.61528327e-01\n",
      " 7.67457181e-01 7.67457181e-01 7.76021080e-01 7.76021080e-01\n",
      " 8.01054018e-01 8.01054018e-01 8.15546772e-01 8.15546772e-01\n",
      " 8.18840580e-01 8.18840580e-01 8.28722003e-01 8.28722003e-01\n",
      " 8.59025033e-01 8.59025033e-01 8.68906456e-01 8.68906456e-01\n",
      " 8.71541502e-01 8.71541502e-01 9.05138340e-01 9.05138340e-01\n",
      " 9.37417655e-01 9.37417655e-01 9.43346509e-01 9.43346509e-01\n",
      " 9.51251647e-01 9.51251647e-01 9.65085639e-01 9.65085639e-01\n",
      " 1.00000000e+00]\n",
      "True Positive Rates: [0.         0.         0.         0.00806452 0.00806452 0.02419355\n",
      " 0.02419355 0.03225806 0.03225806 0.04032258 0.04032258 0.0483871\n",
      " 0.0483871  0.05645161 0.05645161 0.06451613 0.06451613 0.07258065\n",
      " 0.07258065 0.08064516 0.08064516 0.10483871 0.10483871 0.11290323\n",
      " 0.11290323 0.12903226 0.12903226 0.13709677 0.13709677 0.14516129\n",
      " 0.14516129 0.15322581 0.15322581 0.16129032 0.16129032 0.16935484\n",
      " 0.16935484 0.17741935 0.17741935 0.18548387 0.18548387 0.19354839\n",
      " 0.19354839 0.2016129  0.2016129  0.20967742 0.20967742 0.21774194\n",
      " 0.21774194 0.22580645 0.22580645 0.24193548 0.24193548 0.25\n",
      " 0.25       0.25806452 0.25806452 0.27419355 0.27419355 0.28225806\n",
      " 0.28225806 0.29032258 0.29032258 0.2983871  0.2983871  0.30645161\n",
      " 0.30645161 0.31451613 0.31451613 0.32258065 0.32258065 0.33870968\n",
      " 0.33870968 0.34677419 0.34677419 0.36290323 0.36290323 0.37096774\n",
      " 0.37096774 0.37903226 0.37903226 0.38709677 0.38709677 0.39516129\n",
      " 0.39516129 0.40322581 0.40322581 0.41129032 0.41129032 0.41935484\n",
      " 0.41935484 0.43548387 0.43548387 0.44354839 0.44354839 0.4516129\n",
      " 0.4516129  0.45967742 0.45967742 0.46774194 0.46774194 0.47580645\n",
      " 0.47580645 0.48387097 0.48387097 0.49193548 0.49193548 0.5\n",
      " 0.5        0.50806452 0.50806452 0.51612903 0.51612903 0.52419355\n",
      " 0.52419355 0.53225806 0.53225806 0.54032258 0.54032258 0.5483871\n",
      " 0.5483871  0.55645161 0.55645161 0.56451613 0.56451613 0.57258065\n",
      " 0.57258065 0.58064516 0.58064516 0.58870968 0.58870968 0.59677419\n",
      " 0.59677419 0.60483871 0.60483871 0.61290323 0.61290323 0.62096774\n",
      " 0.62096774 0.62903226 0.62903226 0.63709677 0.63709677 0.64516129\n",
      " 0.64516129 0.65322581 0.65322581 0.66129032 0.66129032 0.66935484\n",
      " 0.66935484 0.67741935 0.67741935 0.68548387 0.68548387 0.69354839\n",
      " 0.69354839 0.7016129  0.7016129  0.70967742 0.70967742 0.71774194\n",
      " 0.71774194 0.72580645 0.72580645 0.73387097 0.73387097 0.74193548\n",
      " 0.74193548 0.75       0.75       0.75806452 0.75806452 0.76612903\n",
      " 0.76612903 0.77419355 0.77419355 0.78225806 0.78225806 0.79032258\n",
      " 0.79032258 0.80645161 0.80645161 0.81451613 0.81451613 0.82258065\n",
      " 0.82258065 0.83064516 0.83064516 0.83870968 0.83870968 0.85483871\n",
      " 0.85483871 0.86290323 0.86290323 0.87096774 0.87096774 0.87903226\n",
      " 0.87903226 0.88709677 0.88709677 0.89516129 0.89516129 0.90322581\n",
      " 0.90322581 0.91129032 0.91129032 0.91935484 0.91935484 0.92741935\n",
      " 0.92741935 0.93548387 0.93548387 0.94354839 0.94354839 0.9516129\n",
      " 0.9516129  0.95967742 0.95967742 0.96774194 0.96774194 0.97580645\n",
      " 0.97580645 0.98387097 0.98387097 0.99193548 0.99193548 1.\n",
      " 1.        ]\n",
      "Thresholds: [           inf 3.23257297e-01 2.62114584e-01 2.61619508e-01\n",
      " 2.41245836e-01 2.38276169e-01 2.23069787e-01 2.20797047e-01\n",
      " 2.18020722e-01 2.12886617e-01 2.07545474e-01 2.07485929e-01\n",
      " 2.07402274e-01 2.06613600e-01 2.03529179e-01 2.02136755e-01\n",
      " 1.83005571e-01 1.82039365e-01 1.81877464e-01 1.81847617e-01\n",
      " 1.81366220e-01 1.79999754e-01 1.77873522e-01 1.77766368e-01\n",
      " 1.76969841e-01 1.75747201e-01 1.74404502e-01 1.74399018e-01\n",
      " 1.68176964e-01 1.67497590e-01 1.66851416e-01 1.66046932e-01\n",
      " 1.63477585e-01 1.63284883e-01 1.62634850e-01 1.61579102e-01\n",
      " 1.61169499e-01 1.60836741e-01 1.59618825e-01 1.58786237e-01\n",
      " 1.56011015e-01 1.55927896e-01 1.53934672e-01 1.53749362e-01\n",
      " 1.53399363e-01 1.53331950e-01 1.52032182e-01 1.51943207e-01\n",
      " 1.51795596e-01 1.51458710e-01 1.50528520e-01 1.49900407e-01\n",
      " 1.49707079e-01 1.49605498e-01 1.49318382e-01 1.49109989e-01\n",
      " 1.48295373e-01 1.47877082e-01 1.47140265e-01 1.46928221e-01\n",
      " 1.45519003e-01 1.45388961e-01 1.42876878e-01 1.42699182e-01\n",
      " 1.41824558e-01 1.41765535e-01 1.39156297e-01 1.39127418e-01\n",
      " 1.37964904e-01 1.37639835e-01 1.34960026e-01 1.34728134e-01\n",
      " 1.31384164e-01 1.31305665e-01 1.30742773e-01 1.30185276e-01\n",
      " 1.28476441e-01 1.28444299e-01 1.22633882e-01 1.22542821e-01\n",
      " 1.19768858e-01 1.19689010e-01 1.18056536e-01 1.17983073e-01\n",
      " 1.15663506e-01 1.15658537e-01 1.12594388e-01 1.12277940e-01\n",
      " 1.10718071e-01 1.10570721e-01 1.09848745e-01 1.09785184e-01\n",
      " 1.05740152e-01 1.05684794e-01 1.05416127e-01 1.04822151e-01\n",
      " 1.04663439e-01 1.04448393e-01 1.02017194e-01 1.01682968e-01\n",
      " 1.00253507e-01 1.00157090e-01 9.93611142e-02 9.92556140e-02\n",
      " 9.88257900e-02 9.87516865e-02 9.83633548e-02 9.81177166e-02\n",
      " 9.72632989e-02 9.70455483e-02 9.66280624e-02 9.66119692e-02\n",
      " 9.59783569e-02 9.59532037e-02 9.17776302e-02 9.16341841e-02\n",
      " 9.08402652e-02 9.07719061e-02 9.05499160e-02 9.04737264e-02\n",
      " 8.61368179e-02 8.61342475e-02 8.54464024e-02 8.54449272e-02\n",
      " 8.38231668e-02 8.37366208e-02 8.27002749e-02 8.19359049e-02\n",
      " 8.12407807e-02 8.09771717e-02 8.02925155e-02 8.02622363e-02\n",
      " 7.98630044e-02 7.98567533e-02 7.80863389e-02 7.79868439e-02\n",
      " 7.73331225e-02 7.71149993e-02 7.53683001e-02 7.51201287e-02\n",
      " 7.43156895e-02 7.43007660e-02 7.26919696e-02 7.25812539e-02\n",
      " 7.18480572e-02 7.18050450e-02 7.15593398e-02 7.12995976e-02\n",
      " 7.04872087e-02 7.02634677e-02 6.57073632e-02 6.56466782e-02\n",
      " 5.88595979e-02 5.88508584e-02 5.76910302e-02 5.76573908e-02\n",
      " 5.74174412e-02 5.72331809e-02 5.60549274e-02 5.60041964e-02\n",
      " 5.53777032e-02 5.53695075e-02 5.50994016e-02 5.49821779e-02\n",
      " 5.43557331e-02 5.42742498e-02 5.40287979e-02 5.40086553e-02\n",
      " 5.38868159e-02 5.37164360e-02 4.98934537e-02 4.97759432e-02\n",
      " 4.91118133e-02 4.90931235e-02 4.81664054e-02 4.81122434e-02\n",
      " 4.62334231e-02 4.62094992e-02 4.52563465e-02 4.52360772e-02\n",
      " 4.47340421e-02 4.46737669e-02 4.44614887e-02 4.44189124e-02\n",
      " 4.41342928e-02 4.39769924e-02 4.25298624e-02 4.24514450e-02\n",
      " 4.22560610e-02 4.22509462e-02 4.15435918e-02 4.13521752e-02\n",
      " 4.12896238e-02 4.11458910e-02 4.07730862e-02 4.07090969e-02\n",
      " 3.94092463e-02 3.93639021e-02 3.63376588e-02 3.62680815e-02\n",
      " 3.56987678e-02 3.56892832e-02 3.45446765e-02 3.44412737e-02\n",
      " 3.20724510e-02 3.19098122e-02 3.06007732e-02 3.05558760e-02\n",
      " 2.97625251e-02 2.96222102e-02 2.72731483e-02 2.72399113e-02\n",
      " 2.37035751e-02 2.36973800e-02 2.19660625e-02 2.18656491e-02\n",
      " 2.12644245e-02 2.12108530e-02 1.57559253e-02 1.57393701e-02\n",
      " 1.05852056e-02 1.03611378e-02 9.04898066e-03 8.94316472e-03\n",
      " 7.61123421e-03 7.58035807e-03 6.06153719e-03 6.03767904e-03\n",
      " 2.10435144e-04]\n"
     ]
    }
   ],
   "source": [
    "import matplotlib.pyplot as plt\n",
    "from sklearn.metrics import roc_curve, auc\n",
    "import torch\n",
    "\n",
    "# Set the model to evaluation mode\n",
    "model.eval()\n",
    "\n",
    "all_labels = []\n",
    "all_probs = []\n",
    "\n",
    "# Gather predicted probabilities and true labels from the test set\n",
    "with torch.no_grad():\n",
    "    for features, labels in test_loader:\n",
    "        outputs = model(features)  # outputs are probabilities due to sigmoid activation\n",
    "        all_probs.extend(outputs.cpu().numpy().flatten())\n",
    "        all_labels.extend(labels.cpu().numpy().flatten())\n",
    "\n",
    "# Compute the ROC curve and AUC\n",
    "fpr, tpr, thresholds = roc_curve(all_labels, all_probs)\n",
    "roc_auc = auc(fpr, tpr)\n",
    "print(f\"AUC: {roc_auc:.2f}\")\n",
    "\n",
    "# Plot the ROC curve\n",
    "plt.figure(figsize=(8, 6))\n",
    "plt.plot(fpr, tpr, color='darkorange', lw=2, label=f'ROC curve (AUC = {roc_auc:.2f})')\n",
    "plt.plot([0, 1], [0, 1], color='navy', lw=2, linestyle='--')\n",
    "plt.xlabel('False Positive Rate')\n",
    "plt.ylabel('True Positive Rate')\n",
    "plt.title('Receiver Operating Characteristic (ROC) Curve')\n",
    "plt.legend(loc=\"lower right\")\n",
    "plt.show()\n",
    "\n",
    "# Optionally, print the ROC amounts\n",
    "print(\"False Positive Rates:\", fpr)\n",
    "print(\"True Positive Rates:\", tpr)\n",
    "print(\"Thresholds:\", thresholds)\n"
   ]
  },
  {
   "cell_type": "code",
   "execution_count": null,
   "metadata": {},
   "outputs": [],
   "source": []
  }
 ],
 "metadata": {
  "kernelspec": {
   "display_name": "Python 3",
   "language": "python",
   "name": "python3"
  },
  "language_info": {
   "codemirror_mode": {
    "name": "ipython",
    "version": 3
   },
   "file_extension": ".py",
   "mimetype": "text/x-python",
   "name": "python",
   "nbconvert_exporter": "python",
   "pygments_lexer": "ipython3",
   "version": "3.13.2"
  }
 },
 "nbformat": 4,
 "nbformat_minor": 2
}
